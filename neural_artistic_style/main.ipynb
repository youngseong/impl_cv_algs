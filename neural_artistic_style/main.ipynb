{
 "cells": [
  {
   "cell_type": "code",
   "execution_count": 18,
   "metadata": {
    "scrolled": true
   },
   "outputs": [],
   "source": [
    "from keras.models import Model\n",
    "import numpy as np\n",
    "\n",
    "from keras.applications.vgg19 import VGG19"
   ]
  },
  {
   "cell_type": "code",
   "execution_count": 19,
   "metadata": {},
   "outputs": [],
   "source": [
    "model = VGG19(include_top=False, input_shape=(512,512,3), pooling='avg')\n",
    "\n",
    "# a function to convert 3-dimensional feature into 2d matrix\n",
    "# G = F.transpose() * F;\n",
    "\n",
    "# compute style difference\n",
    "# compute content difference\n",
    "# L-BFGS error minimization; dim(X) = w*h*3, X = X - lambda*dE/dX\n",
    "#   how to get dE/dX?\n",
    "\n",
    "conv1 = Model(inputs=model.input, outputs=model.get_layer('block1_pool').output)\n",
    "conv2 = Model(inputs=model.input, outputs=model.get_layer('block2_pool').output)\n",
    "conv3 = Model(inputs=model.input, outputs=model.get_layer('block3_pool').output)\n",
    "conv4 = Model(inputs=model.input, outputs=model.get_layer('block4_pool').output)"
   ]
  }
 ],
 "metadata": {
  "kernelspec": {
   "display_name": "Python 3",
   "language": "python",
   "name": "python3"
  },
  "language_info": {
   "codemirror_mode": {
    "name": "ipython",
    "version": 3
   },
   "file_extension": ".py",
   "mimetype": "text/x-python",
   "name": "python",
   "nbconvert_exporter": "python",
   "pygments_lexer": "ipython3",
   "version": "3.6.2"
  }
 },
 "nbformat": 4,
 "nbformat_minor": 2
}
