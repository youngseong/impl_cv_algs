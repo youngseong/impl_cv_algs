{
 "cells": [
  {
   "cell_type": "code",
   "execution_count": 1,
   "metadata": {
    "collapsed": true
   },
   "outputs": [],
   "source": [
    "# dump of vgg19 network shape"
   ]
  },
  {
   "cell_type": "code",
   "execution_count": 2,
   "metadata": {},
   "outputs": [
    {
     "name": "stderr",
     "output_type": "stream",
     "text": [
      "Using TensorFlow backend.\n"
     ]
    }
   ],
   "source": [
    "from keras.models import Sequential\n",
    "from keras.layers import AveragePooling2D, MaxPooling2D\n",
    "from keras.layers.convolutional import Conv2D, ZeroPadding2D"
   ]
  },
  {
   "cell_type": "code",
   "execution_count": null,
   "metadata": {
    "collapsed": true
   },
   "outputs": [],
   "source": [
    "model = Sequential()\n",
    "\n",
    "# conv1\n",
    "model.add(Conv2D(64, 3, input_shape=(224, 224, 3), activation='relu', padding='same'))\n",
    "model.add(Conv2D(64, 3, activation='relu', padding='same'))\n",
    "model.add(MaxPooling2D())\n",
    "\n",
    "# conv2\n",
    "model.add(Conv2D(128, 3, activation='relu', padding='same'))\n",
    "model.add(Conv2D(128, 3, activation='relu', padding='same'))\n",
    "model.add(MaxPooling2D())\n",
    "\n",
    "# conv3\n",
    "model.add(Conv2D(256, 3, activation='relu', padding='same'))\n",
    "model.add(Conv2D(256, 3, activation='relu', padding='same'))\n",
    "model.add(Conv2D(256, 3, activation='relu', padding='same'))\n",
    "model.add(Conv2D(256, 3, activation='relu', padding='same'))\n",
    "model.add(MaxPooling2D())\n",
    "\n",
    "# conv4\n",
    "model.add(Conv2D(512, 3, activation='relu', padding='same'))\n",
    "model.add(Conv2D(512, 3, activation='relu', padding='same'))\n",
    "model.add(Conv2D(512, 3, activation='relu', padding='same'))\n",
    "model.add(Conv2D(512, 3, activation='relu', padding='same'))\n",
    "model.add(MaxPooling2D())\n",
    "\n",
    "# conv5\n",
    "model.add(Conv2D(512, 3, activation='relu', padding='same'))\n",
    "model.add(Conv2D(512, 3, activation='relu', padding='same'))\n",
    "model.add(Conv2D(512, 3, activation='relu', padding='same'))\n",
    "model.add(Conv2D(512, 3, activation='relu', padding='same'))\n",
    "model.add(MaxPooling2D())"
   ]
  }
 ],
 "metadata": {
  "kernelspec": {
   "display_name": "Python 3",
   "language": "python",
   "name": "python3"
  },
  "language_info": {
   "codemirror_mode": {
    "name": "ipython",
    "version": 3
   },
   "file_extension": ".py",
   "mimetype": "text/x-python",
   "name": "python",
   "nbconvert_exporter": "python",
   "pygments_lexer": "ipython3",
   "version": "3.6.2"
  }
 },
 "nbformat": 4,
 "nbformat_minor": 2
}
